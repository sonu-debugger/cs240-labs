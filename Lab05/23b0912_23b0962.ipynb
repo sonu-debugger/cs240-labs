{
  "cells": [
    {
      "cell_type": "code",
      "execution_count": 1,
      "metadata": {
        "id": "KgRMXF5-ooN1"
      },
      "outputs": [],
      "source": [
        "import numpy as np\n",
        "import pandas as pd\n",
        "import matplotlib.pyplot as plt"
      ]
    },
    {
      "cell_type": "markdown",
      "metadata": {
        "id": "mlsKcyfkooN3"
      },
      "source": [
        "#### MNIST dataset"
      ]
    },
    {
      "cell_type": "code",
      "execution_count": 2,
      "metadata": {
        "id": "f_NI-f2xooN3"
      },
      "outputs": [],
      "source": [
        "# Function to one-hot encode the target variable into the 10 classes (0-9)\n",
        "# Input shape: (N,),    Output: (N, 10)\n",
        "def one_hot(Y):\n",
        "    one_hot_Y = np.zeros((Y.size, 10))\n",
        "    one_hot_Y[np.arange(Y.size), Y] = 1\n",
        "    return one_hot_Y"
      ]
    },
    {
      "cell_type": "code",
      "execution_count": 3,
      "metadata": {
        "id": "1jBMOGdOooN4"
      },
      "outputs": [],
      "source": [
        "# Loading the MNIST dataset\n",
        "train_data = pd.read_csv(r\"./mnist_train.csv\")\n",
        "test_data = pd.read_csv(r\"./mnist_test.csv\")\n",
        "\n",
        "# Preprocessing the data\n",
        "train_data = train_data.to_numpy()    # train_data shape: (60000, 785)\n",
        "test_data = test_data.to_numpy()      # test_data shape: (10000, 785)\n",
        "\n",
        "X_train = train_data[:,1:]            # X_train shape: (60000, 784)\n",
        "y_train = train_data[:,0]             # y_train shape: (60000,)\n",
        "X_test = test_data[:,1:]              # X_test shape: (10000, 784)\n",
        "y_test = test_data[:,0]               # y_test shape: (10000,)\n",
        "\n",
        "X_train = X_train / 255.0           # Normalizing the data\n",
        "X_test = X_test / 255.0\n",
        "\n",
        "# one_hot_y_train = one_hot(y_train)  # one_hot_y_train shape: (60000, 10)\n",
        "# one_hot_y_test = one_hot(y_test)    # one_hot_y_test shape: (10000, 10)"
      ]
    },
    {
      "cell_type": "code",
      "execution_count": 4,
      "metadata": {
        "id": "E2ig0CtPooN4"
      },
      "outputs": [],
      "source": [
        "X_test = X_test.T\n",
        "X_train = X_train.T"
      ]
    },
    {
      "cell_type": "code",
      "source": [
        "m, n = train_data.shape"
      ],
      "metadata": {
        "id": "slLpGoEIXFvO"
      },
      "execution_count": 5,
      "outputs": []
    },
    {
      "cell_type": "code",
      "source": [
        "def init_params():\n",
        "  w1 = np.random.rand(20,784) - 0.5\n",
        "  b1 = np.random.rand(20,1) - 0.5\n",
        "\n",
        "  w2 = np.random.rand(10,20) - 0.5\n",
        "  b2 = np.random.rand(10,1) - 0.5\n",
        "\n",
        "  w3 = np.random.rand(10,10) - 0.5\n",
        "  b3 = np.random.rand(10,1) - 0.5\n",
        "\n",
        "  return w1, b1, w2, b2"
      ],
      "metadata": {
        "id": "h00AIY22TON2"
      },
      "execution_count": 6,
      "outputs": []
    },
    {
      "cell_type": "code",
      "source": [
        "def sigmoid(z):\n",
        "  # z = np.clip(z, -500, 500)\n",
        "\n",
        "  return 1 / (1 + np.exp(-z))\n",
        "\n",
        "def ReLU(Z):\n",
        "  return np.maximum(Z, 0)\n",
        "\n",
        "def softmax(Z):\n",
        "  Z_new = Z - np.max(Z, axis=0, keepdims=True)\n",
        "  A = np.exp(Z_new) / np.sum(np.exp(Z_new), axis=0, keepdims=True)\n",
        "\n",
        "  return A\n",
        "\n",
        "def deriv_ReLU(Z):\n",
        "  return Z > 0\n",
        "\n",
        "def deriv_sigmoid(Z):\n",
        "  # print(Z.min(), Z.max())\n",
        "\n",
        "  return Z * (1 - Z)\n",
        "\n",
        "def cross_entropy_loss(Y, Y_hat):\n",
        "  return -np.mean(Y * np.log(Y_hat))"
      ],
      "metadata": {
        "id": "8V-z83kwTOMC"
      },
      "execution_count": 7,
      "outputs": []
    },
    {
      "cell_type": "code",
      "source": [
        "def forward_prop(w1, b1, w2, b2, X):\n",
        "  z1 = w1.dot(X) + b1\n",
        "  a1 = sigmoid(z1)\n",
        "\n",
        "  z2 = w2.dot(a1) + b2\n",
        "  a2 = softmax(z2)\n",
        "\n",
        "  return z1, a1, z2, a2\n",
        "\n",
        "def back_prop(z1, a1, z2, a2, w2, Y, X, loss=\"ce\"):\n",
        "  OneHot_Y = one_hot(Y).T\n",
        "  if loss == \"ce\":\n",
        "    dZ2 = (a2 - OneHot_Y) / m\n",
        "  elif loss == \"tss\":\n",
        "    dZ2=(a2 - OneHot_Y) * a2 * (1 - a2) / m\n",
        "\n",
        "  dW2 = dZ2.dot(a1.T)\n",
        "  db2 = np.sum(dZ2, axis=1, keepdims=True)\n",
        "\n",
        "  dZ1 = w2.T.dot(dZ2) * deriv_sigmoid(a1)\n",
        "  dW1 = dZ1.dot(X.T)\n",
        "  db1 = np.sum(dZ1, axis=1, keepdims=True)\n",
        "\n",
        "  return dW1, db1, dW2, db2"
      ],
      "metadata": {
        "id": "RvcSwceOTOKK"
      },
      "execution_count": 8,
      "outputs": []
    },
    {
      "cell_type": "code",
      "source": [
        "def update_params(W1, b1, W2, b2, dW1, db1, dW2, db2, alpha):\n",
        "  W1 = W1 - (alpha * dW1)\n",
        "  b1 = b1 - (alpha * db1)\n",
        "\n",
        "  W2 = W2 - (alpha * dW2)\n",
        "  b2 = b2 - (alpha * db2)\n",
        "\n",
        "  return W1, b1, W2, b2\n",
        "\n",
        "def get_predictions(a2):\n",
        "  return np.argmax(a2,0)\n",
        "\n",
        "def get_accuracy(predictions, Y):\n",
        "  # print(predictions, Y)\n",
        "\n",
        "  return np.sum(predictions == Y) / Y.size"
      ],
      "metadata": {
        "id": "fxjdB6wpTN5m"
      },
      "execution_count": 9,
      "outputs": []
    },
    {
      "cell_type": "code",
      "source": [
        "\n",
        "def train(X, Y, iterations, alpha):\n",
        "  w1, b1, w2, b2 = init_params()\n",
        "\n",
        "  for i in range(iterations):\n",
        "    z1, a1, z2, a2 = forward_prop(w1, b1, w2, b2, X)\n",
        "\n",
        "    dW1, db1, dW2, db2 = back_prop(z1, a1, z2, a2, w2, Y, X, \"ce\")\n",
        "\n",
        "    w1, b1, w2, b2 = update_params(w1, b1, w2, b2, dW1, db1, dW2, db2, alpha)\n",
        "\n",
        "    if i % 10 == 0:\n",
        "      print(\"Iterations: \", i, end=\", \")\n",
        "      print(\"Accuracy: \", get_accuracy(get_predictions(a2),Y), end = \", \")\n",
        "      print(\"Loss: \", cross_entropy_loss(one_hot(Y).T, a2))\n",
        "\n",
        "  return w1, b1, w2, b2"
      ],
      "metadata": {
        "id": "UNbSp-ZoXpf6"
      },
      "execution_count": 10,
      "outputs": []
    },
    {
      "cell_type": "code",
      "source": [
        "def make_predictions(X, W1, b1, W2, b2):\n",
        "  _, _, _, A2 = forward_prop(W1, b1, W2, b2, X)\n",
        "  predictions = get_predictions(A2)\n",
        "\n",
        "  return predictions\n",
        "\n",
        "def test_prediction(index, W1, b1, W2, b2):\n",
        "  current_image = X_train[:, index, None]\n",
        "  prediction = make_predictions(X_train[:, index, None], W1, b1, W2, b2)\n",
        "  label = y_train[index]\n",
        "  print(\"Prediction: \", prediction)\n",
        "  print(\"Label: \", label)\n",
        "\n",
        "  current_image = current_image.reshape((28, 28)) * 255\n",
        "  plt.gray()\n",
        "  plt.imshow(current_image, interpolation='nearest')\n",
        "\n",
        "  plt.show()"
      ],
      "metadata": {
        "id": "qhrEIrfFbqO6"
      },
      "execution_count": 11,
      "outputs": []
    },
    {
      "cell_type": "code",
      "source": [
        "w1, b1, w2, b2 = train(X_train, y_train, 600, 0.6)"
      ],
      "metadata": {
        "colab": {
          "base_uri": "https://localhost:8080/"
        },
        "id": "pDx7l_ltX_yV",
        "outputId": "234b87b2-1e64-4db3-ee3d-b921c545ab61"
      },
      "execution_count": 15,
      "outputs": [
        {
          "output_type": "stream",
          "name": "stdout",
          "text": [
            "Iterations:  0, Accuracy:  0.07871666666666667, Loss:  0.2621065662341196\n",
            "Iterations:  10, Accuracy:  0.30155, Loss:  0.21147850400221793\n",
            "Iterations:  20, Accuracy:  0.5020166666666667, Loss:  0.1861427005140999\n",
            "Iterations:  30, Accuracy:  0.5994666666666667, Loss:  0.16234692166026823\n",
            "Iterations:  40, Accuracy:  0.66065, Loss:  0.14130629146251478\n",
            "Iterations:  50, Accuracy:  0.7036, Loss:  0.12357797578872114\n",
            "Iterations:  60, Accuracy:  0.7351333333333333, Loss:  0.10925233091564812\n",
            "Iterations:  70, Accuracy:  0.7588333333333334, Loss:  0.09819921722996111\n",
            "Iterations:  80, Accuracy:  0.7762666666666667, Loss:  0.0897361978536791\n",
            "Iterations:  90, Accuracy:  0.7890833333333334, Loss:  0.08309723679664283\n",
            "Iterations:  100, Accuracy:  0.8008333333333333, Loss:  0.0777509527170002\n",
            "Iterations:  110, Accuracy:  0.8104666666666667, Loss:  0.07334438663778861\n",
            "Iterations:  120, Accuracy:  0.81815, Loss:  0.06963842966290286\n",
            "Iterations:  130, Accuracy:  0.82525, Loss:  0.0664675757456336\n",
            "Iterations:  140, Accuracy:  0.8315833333333333, Loss:  0.0637147458795806\n",
            "Iterations:  150, Accuracy:  0.83775, Loss:  0.0612953317709094\n",
            "Iterations:  160, Accuracy:  0.8428166666666667, Loss:  0.05914693019101328\n",
            "Iterations:  170, Accuracy:  0.8474833333333334, Loss:  0.057222612315951764\n",
            "Iterations:  180, Accuracy:  0.8515666666666667, Loss:  0.05548642362187391\n",
            "Iterations:  190, Accuracy:  0.8549666666666667, Loss:  0.053910319806740936\n",
            "Iterations:  200, Accuracy:  0.85855, Loss:  0.05247204615731495\n",
            "Iterations:  210, Accuracy:  0.86175, Loss:  0.051153648595978714\n",
            "Iterations:  220, Accuracy:  0.8644666666666667, Loss:  0.04994041498645633\n",
            "Iterations:  230, Accuracy:  0.8673, Loss:  0.048820113934429483\n",
            "Iterations:  240, Accuracy:  0.8696833333333334, Loss:  0.047782441857723006\n",
            "Iterations:  250, Accuracy:  0.8721333333333333, Loss:  0.04681861727158444\n",
            "Iterations:  260, Accuracy:  0.8741166666666667, Loss:  0.04592107986889344\n",
            "Iterations:  270, Accuracy:  0.87645, Loss:  0.04508326459142259\n",
            "Iterations:  280, Accuracy:  0.8786666666666667, Loss:  0.04429942961977362\n",
            "Iterations:  290, Accuracy:  0.8805166666666666, Loss:  0.04356452335511571\n",
            "Iterations:  300, Accuracy:  0.88235, Loss:  0.0428740798267636\n",
            "Iterations:  310, Accuracy:  0.88375, Loss:  0.04222413505046428\n",
            "Iterations:  320, Accuracy:  0.8852, Loss:  0.04161115903667383\n",
            "Iterations:  330, Accuracy:  0.8868166666666667, Loss:  0.04103199966563738\n",
            "Iterations:  340, Accuracy:  0.8885333333333333, Loss:  0.04048383570208581\n",
            "Iterations:  350, Accuracy:  0.8896, Loss:  0.039964136961041334\n",
            "Iterations:  360, Accuracy:  0.8908, Loss:  0.03947063015928642\n",
            "Iterations:  370, Accuracy:  0.8920333333333333, Loss:  0.03900126936277669\n",
            "Iterations:  380, Accuracy:  0.89325, Loss:  0.03855421021299199\n",
            "Iterations:  390, Accuracy:  0.8944833333333333, Loss:  0.03812778731384363\n",
            "Iterations:  400, Accuracy:  0.8955166666666666, Loss:  0.037720494305272974\n",
            "Iterations:  410, Accuracy:  0.8961, Loss:  0.03733096625503847\n",
            "Iterations:  420, Accuracy:  0.8972, Loss:  0.03695796407774374\n",
            "Iterations:  430, Accuracy:  0.89835, Loss:  0.03660036074767494\n",
            "Iterations:  440, Accuracy:  0.8994333333333333, Loss:  0.036257129113789005\n",
            "Iterations:  450, Accuracy:  0.9003166666666667, Loss:  0.0359273311533219\n",
            "Iterations:  460, Accuracy:  0.9011666666666667, Loss:  0.03561010851696545\n",
            "Iterations:  470, Accuracy:  0.9018666666666667, Loss:  0.03530467422677606\n",
            "Iterations:  480, Accuracy:  0.9024, Loss:  0.035010305392552496\n",
            "Iterations:  490, Accuracy:  0.90325, Loss:  0.03472633681772852\n",
            "Iterations:  500, Accuracy:  0.9037166666666666, Loss:  0.03445215537445817\n",
            "Iterations:  510, Accuracy:  0.9044833333333333, Loss:  0.03418719503980875\n",
            "Iterations:  520, Accuracy:  0.9050833333333334, Loss:  0.03393093249942793\n",
            "Iterations:  530, Accuracy:  0.9057166666666666, Loss:  0.03368288323975167\n",
            "Iterations:  540, Accuracy:  0.9064, Loss:  0.03344259806318118\n",
            "Iterations:  550, Accuracy:  0.9068166666666667, Loss:  0.033209659971844684\n",
            "Iterations:  560, Accuracy:  0.9072166666666667, Loss:  0.03298368137445407\n",
            "Iterations:  570, Accuracy:  0.9077666666666667, Loss:  0.03276430157768394\n",
            "Iterations:  580, Accuracy:  0.9085166666666666, Loss:  0.0325511845289129\n",
            "Iterations:  590, Accuracy:  0.9089666666666667, Loss:  0.03234401678151637\n"
          ]
        }
      ]
    },
    {
      "cell_type": "code",
      "source": [
        "test_prediction(0, w1, b1, w2, b2)"
      ],
      "metadata": {
        "colab": {
          "base_uri": "https://localhost:8080/",
          "height": 466
        },
        "id": "JuAi_OlocgOE",
        "outputId": "2c80e34a-a388-46a7-901c-ec112c188528"
      },
      "execution_count": 16,
      "outputs": [
        {
          "output_type": "stream",
          "name": "stdout",
          "text": [
            "Prediction:  [5]\n",
            "Label:  5\n"
          ]
        },
        {
          "output_type": "display_data",
          "data": {
            "text/plain": [
              "<Figure size 640x480 with 1 Axes>"
            ],
            "image/png": "[encoded data removed]"
          },
          "metadata": {}
        }
      ]
    },
    {
      "cell_type": "code",
      "source": [
        "test_predictions = make_predictions(X_test, w1, b1, w2, b2)\n",
        "get_accuracy(test_predictions, y_test)"
      ],
      "metadata": {
        "colab": {
          "base_uri": "https://localhost:8080/"
        },
        "id": "fIVccNyVda0P",
        "outputId": "d2889ff2-2734-42c5-82c2-6aadafe644a6"
      },
      "execution_count": 17,
      "outputs": [
        {
          "output_type": "execute_result",
          "data": {
            "text/plain": [
              "np.float64(0.9134)"
            ]
          },
          "metadata": {},
          "execution_count": 17
        }
      ]
    },
    {
      "cell_type": "markdown",
      "metadata": {
        "id": "TD2yPZKjooN4"
      },
      "source": [
        "#### Training on the other Boolean functions"
      ]
    },
    {
      "cell_type": "code",
      "execution_count": 18,
      "metadata": {
        "id": "zPMtPG7VooN5"
      },
      "outputs": [],
      "source": [
        "def generate_n_bit_numbers(n):\n",
        "  return [list(map(int, bin(i)[2:].zfill(n))) for i in range(2 ** n)]\n",
        "\n",
        "x_2_list = generate_n_bit_numbers(2)\n",
        "x_4_list = generate_n_bit_numbers(4)\n",
        "x_5_list = generate_n_bit_numbers(5)\n",
        "\n",
        "x_2 = np.array(x_2_list)\n",
        "x_4 = np.array(x_4_list)\n",
        "x_5 = np.array(x_5_list)"
      ]
    },
    {
      "cell_type": "code",
      "source": [
        "print(f\"x_2_list: {x_2_list}\")\n",
        "print(f\"x_4_list: {x_4_list}\")\n",
        "print(f\"x_5_list: {x_5_list}\")\n",
        "\n",
        "print(f\"x_2: {x_2}\")\n",
        "print(f\"x_4: {x_4}\")\n",
        "print(f\"x_5: {x_5}\")"
      ],
      "metadata": {
        "colab": {
          "base_uri": "https://localhost:8080/"
        },
        "id": "P5f7Xkz-PH9F",
        "outputId": "a195d30d-b903-47bd-a21c-e8ae59401c91"
      },
      "execution_count": 19,
      "outputs": [
        {
          "output_type": "stream",
          "name": "stdout",
          "text": [
            "x_2_list: [[0, 0], [0, 1], [1, 0], [1, 1]]\n",
            "x_4_list: [[0, 0, 0, 0], [0, 0, 0, 1], [0, 0, 1, 0], [0, 0, 1, 1], [0, 1, 0, 0], [0, 1, 0, 1], [0, 1, 1, 0], [0, 1, 1, 1], [1, 0, 0, 0], [1, 0, 0, 1], [1, 0, 1, 0], [1, 0, 1, 1], [1, 1, 0, 0], [1, 1, 0, 1], [1, 1, 1, 0], [1, 1, 1, 1]]\n",
            "x_5_list: [[0, 0, 0, 0, 0], [0, 0, 0, 0, 1], [0, 0, 0, 1, 0], [0, 0, 0, 1, 1], [0, 0, 1, 0, 0], [0, 0, 1, 0, 1], [0, 0, 1, 1, 0], [0, 0, 1, 1, 1], [0, 1, 0, 0, 0], [0, 1, 0, 0, 1], [0, 1, 0, 1, 0], [0, 1, 0, 1, 1], [0, 1, 1, 0, 0], [0, 1, 1, 0, 1], [0, 1, 1, 1, 0], [0, 1, 1, 1, 1], [1, 0, 0, 0, 0], [1, 0, 0, 0, 1], [1, 0, 0, 1, 0], [1, 0, 0, 1, 1], [1, 0, 1, 0, 0], [1, 0, 1, 0, 1], [1, 0, 1, 1, 0], [1, 0, 1, 1, 1], [1, 1, 0, 0, 0], [1, 1, 0, 0, 1], [1, 1, 0, 1, 0], [1, 1, 0, 1, 1], [1, 1, 1, 0, 0], [1, 1, 1, 0, 1], [1, 1, 1, 1, 0], [1, 1, 1, 1, 1]]\n",
            "x_2: [[0 0]\n",
            " [0 1]\n",
            " [1 0]\n",
            " [1 1]]\n",
            "x_4: [[0 0 0 0]\n",
            " [0 0 0 1]\n",
            " [0 0 1 0]\n",
            " [0 0 1 1]\n",
            " [0 1 0 0]\n",
            " [0 1 0 1]\n",
            " [0 1 1 0]\n",
            " [0 1 1 1]\n",
            " [1 0 0 0]\n",
            " [1 0 0 1]\n",
            " [1 0 1 0]\n",
            " [1 0 1 1]\n",
            " [1 1 0 0]\n",
            " [1 1 0 1]\n",
            " [1 1 1 0]\n",
            " [1 1 1 1]]\n",
            "x_5: [[0 0 0 0 0]\n",
            " [0 0 0 0 1]\n",
            " [0 0 0 1 0]\n",
            " [0 0 0 1 1]\n",
            " [0 0 1 0 0]\n",
            " [0 0 1 0 1]\n",
            " [0 0 1 1 0]\n",
            " [0 0 1 1 1]\n",
            " [0 1 0 0 0]\n",
            " [0 1 0 0 1]\n",
            " [0 1 0 1 0]\n",
            " [0 1 0 1 1]\n",
            " [0 1 1 0 0]\n",
            " [0 1 1 0 1]\n",
            " [0 1 1 1 0]\n",
            " [0 1 1 1 1]\n",
            " [1 0 0 0 0]\n",
            " [1 0 0 0 1]\n",
            " [1 0 0 1 0]\n",
            " [1 0 0 1 1]\n",
            " [1 0 1 0 0]\n",
            " [1 0 1 0 1]\n",
            " [1 0 1 1 0]\n",
            " [1 0 1 1 1]\n",
            " [1 1 0 0 0]\n",
            " [1 1 0 0 1]\n",
            " [1 1 0 1 0]\n",
            " [1 1 0 1 1]\n",
            " [1 1 1 0 0]\n",
            " [1 1 1 0 1]\n",
            " [1 1 1 1 0]\n",
            " [1 1 1 1 1]]\n"
          ]
        }
      ]
    },
    {
      "cell_type": "code",
      "source": [
        "def xor_function(x):\n",
        "  y = [int(np.bitwise_xor.reduce(seq)) for seq in x]\n",
        "\n",
        "  return y\n",
        "\n",
        "def palindrome_function(x):\n",
        "  y = [int(seq == seq[::-1]) for seq in x]\n",
        "\n",
        "  return y\n",
        "\n",
        "def even_parity_function(x):\n",
        "  y = [int(sum(seq) % 2 == 0) for seq in x]\n",
        "\n",
        "  return y"
      ],
      "metadata": {
        "id": "p2krTvW3PXY1"
      },
      "execution_count": 20,
      "outputs": []
    },
    {
      "cell_type": "code",
      "source": [
        "x_2_xor_y = np.array(xor_function(x_2_list))\n",
        "\n",
        "x_4_palindrome_y = np.array(palindrome_function(x_4_list))\n",
        "x_5_palindrome_y = np.array(palindrome_function(x_5_list))\n",
        "\n",
        "x_4_even_parity_y = np.array(even_parity_function(x_4_list))\n",
        "x_5_even_parity_y = np.array(even_parity_function(x_5_list))"
      ],
      "metadata": {
        "id": "geDaF7yrPoUe"
      },
      "execution_count": 21,
      "outputs": []
    },
    {
      "cell_type": "code",
      "source": [
        "print(f\"x_2_xor_y: {x_2_xor_y}\")\n",
        "\n",
        "print(f\"x_4_palindrome_y: {x_4_palindrome_y}\")\n",
        "print(f\"x_5_palindrome_y: {x_5_palindrome_y}\")\n",
        "\n",
        "print(f\"x_4_even_parity_y: {x_4_even_parity_y}\")\n",
        "print(f\"x_5_even_parity_y: {x_5_even_parity_y}\")"
      ],
      "metadata": {
        "colab": {
          "base_uri": "https://localhost:8080/"
        },
        "id": "XqLcWMQQPrHd",
        "outputId": "35a483bb-ecdc-492d-f61f-2c0739cae1c0"
      },
      "execution_count": 22,
      "outputs": [
        {
          "output_type": "stream",
          "name": "stdout",
          "text": [
            "x_2_xor_y: [0 1 1 0]\n",
            "x_4_palindrome_y: [1 0 0 0 0 0 1 0 0 1 0 0 0 0 0 1]\n",
            "x_5_palindrome_y: [1 0 0 0 1 0 0 0 0 0 1 0 0 0 1 0 0 1 0 0 0 1 0 0 0 0 0 1 0 0 0 1]\n",
            "x_4_even_parity_y: [1 0 0 1 0 1 1 0 0 1 1 0 1 0 0 1]\n",
            "x_5_even_parity_y: [1 0 0 1 0 1 1 0 0 1 1 0 1 0 0 1 0 1 1 0 1 0 0 1 1 0 0 1 0 1 1 0]\n"
          ]
        }
      ]
    },
    {
      "cell_type": "code",
      "source": [
        "def sigmoid(x):\n",
        "  return 1 / (1 + np.exp(-x))\n",
        "\n",
        "def sigmoid_derivative(a):\n",
        "  return a * (1 - a)\n",
        "\n",
        "def relu(x):\n",
        "  return np.maximum(0, x)\n",
        "\n",
        "def relu_derivative(a):\n",
        "  return np.where(a > 0, 1, 0)\n",
        "\n",
        "def mse(y, y_hat):\n",
        "  assert(y.shape == y_hat.shape)\n",
        "\n",
        "  return np.mean((y - y_hat) ** 2)\n",
        "\n",
        "def bce(y, y_hat):\n",
        "  assert(y.shape == y_hat.shape)\n",
        "\n",
        "  return -np.mean(y * np.log(y_hat) + (1 - y) * np.log(1 - y_hat))"
      ],
      "metadata": {
        "id": "yZPZB5zWP8KD"
      },
      "execution_count": 23,
      "outputs": []
    },
    {
      "cell_type": "code",
      "source": [
        "class SigmoidNN:\n",
        "  def __init__(self, arch, x, y, lr=0.1, epochs=1000, loss_func=\"bce\"):\n",
        "    self.arch = arch\n",
        "    self.x = x\n",
        "    self.no_of_samples = x.shape[0]\n",
        "    self.y = y\n",
        "\n",
        "    if len(y.shape) == 1:\n",
        "      self.y = y.reshape(-1, 1)\n",
        "      y = self.y\n",
        "\n",
        "    assert(x.shape[0] == y.shape[0])\n",
        "    assert(x.shape[1] == arch[0])\n",
        "    assert(arch[-1] == y.shape[1])\n",
        "\n",
        "    self.lr = lr\n",
        "    self.epochs = epochs\n",
        "    self.loss_func = loss_func\n",
        "    self.losses = []\n",
        "\n",
        "    self.W = [np.random.rand(arch[i], arch[i + 1]) for i in range(len(arch) - 1)]\n",
        "    self.b = [np.random.rand(1, arch[i + 1]) for i in range(len(arch) - 1)]\n",
        "\n",
        "  def forward(self):\n",
        "    self.z = []\n",
        "    self.a = [self.x]\n",
        "    for i in range(len(self.arch)-1):\n",
        "      self.z.append(np.dot(self.a[i], self.W[i]) + self.b[i])\n",
        "      self.a.append(sigmoid(self.z[i]))\n",
        "\n",
        "    return self.a[-1]\n",
        "\n",
        "  def backward(self):\n",
        "    y = self.y\n",
        "\n",
        "    if self.loss_func == \"bce\":\n",
        "      self.dz = [(self.a[-1] - y) / self.no_of_samples]\n",
        "    elif self.loss_func == \"mse\":\n",
        "      self.dz = [2*(self.a[-1] - y) * sigmoid_derivative(self.a[-1]) / self.no_of_samples]\n",
        "\n",
        "    else:\n",
        "      raise ValueError(\"Invalid loss function\")\n",
        "\n",
        "    for i in range(len(self.arch) - 2, -1, -1):\n",
        "      self.dW = np.dot(self.a[i].T, self.dz[-1])\n",
        "      assert(self.dW.shape == self.W[i].shape)\n",
        "\n",
        "      self.db = np.sum(self.dz[-1], axis=0, keepdims=True)\n",
        "      assert(self.db.shape == self.b[i].shape)\n",
        "\n",
        "      dz_temp = np.dot(self.dz[-1], self.W[i].T) * sigmoid_derivative(self.a[i])\n",
        "      assert(dz_temp.shape == self.a[i].shape)\n",
        "\n",
        "      self.dz.append(dz_temp)\n",
        "      self.W[i] -= self.lr * self.dW\n",
        "      self.b[i] -= self.lr * self.db\n",
        "\n",
        "  def train(self, print_epoch=100):\n",
        "    for _ in range(self.epochs):\n",
        "      y_hat = self.forward()\n",
        "      self.backward()\n",
        "\n",
        "      if self.loss_func == \"bce\":\n",
        "        self.losses.append(bce(self.y, y_hat))\n",
        "      elif self.loss_func == \"mse\":\n",
        "        self.losses.append(mse(self.y, y_hat))\n",
        "\n",
        "      if _ % print_epoch == 0:\n",
        "        print(f\"Epoch {_}: Loss = {self.losses[-1]}, Accuracy = {self.accuracy(y_hat)}\")\n",
        "\n",
        "  def predict(self, y_hat):\n",
        "    return (y_hat > 0.5).astype(int)\n",
        "\n",
        "  def plot_loss(self):\n",
        "    plt.plot(self.losses)\n",
        "    plt.xlabel(\"Epoch\")\n",
        "    plt.ylabel(\"Loss\")\n",
        "    plt.title(\"Loss vs Epoch\")\n",
        "\n",
        "    plt.show()\n",
        "\n",
        "  def accuracy(self, y_hat):\n",
        "    assert(y_hat.shape == self.y.shape)\n",
        "    y_pred = self.predict(y_hat)\n",
        "    assert(y_pred.shape == self.y.shape)\n",
        "\n",
        "    return np.mean(self.y == y_pred)\n",
        "\n",
        "  def print_weights_and_biases(self):\n",
        "    for i in range(len(self.W)):\n",
        "      print(f\"Layer {i + 1}\")\n",
        "      print(f\"W = {self.W[i]}\")\n",
        "      print(f\"b = {self.b[i]}\")"
      ],
      "metadata": {
        "id": "ZeU8-lDnQaWB"
      },
      "execution_count": 24,
      "outputs": []
    },
    {
      "cell_type": "code",
      "source": [
        "nn_xor_mse = SigmoidNN([2,2,1], x_2, x_2_xor_y, 0.1, 100000, loss_func=\"mse\")\n",
        "nn_xor_mse.train(print_epoch=10000)\n",
        "nn_xor_mse.plot_loss()\n",
        "nn_xor_mse.print_weights_and_biases()"
      ],
      "metadata": {
        "colab": {
          "base_uri": "https://localhost:8080/",
          "height": 793
        },
        "id": "8vB3ew4eR9f1",
        "outputId": "9bdf91e4-70b5-4f56-9be3-0686089accb4"
      },
      "execution_count": 26,
      "outputs": [
        {
          "output_type": "stream",
          "name": "stdout",
          "text": [
            "Epoch 0: Loss = 0.28723438584044436, Accuracy = 0.5\n",
            "Epoch 10000: Loss = 0.03448797452619151, Accuracy = 1.0\n",
            "Epoch 20000: Loss = 0.0031242311736560196, Accuracy = 1.0\n",
            "Epoch 30000: Loss = 0.0015006620939005944, Accuracy = 1.0\n",
            "Epoch 40000: Loss = 0.0009715655803082042, Accuracy = 1.0\n",
            "Epoch 50000: Loss = 0.000713633602259452, Accuracy = 1.0\n",
            "Epoch 60000: Loss = 0.000562012317262609, Accuracy = 1.0\n",
            "Epoch 70000: Loss = 0.00046258835857697193, Accuracy = 1.0\n",
            "Epoch 80000: Loss = 0.0003925313402778321, Accuracy = 1.0\n",
            "Epoch 90000: Loss = 0.000340586421011268, Accuracy = 1.0\n"
          ]
        },
        {
          "output_type": "display_data",
          "data": {
            "text/plain": [
              "<Figure size 640x480 with 1 Axes>"
            ],
            "image/png": "[encoded data removed]"
          },
          "metadata": {}
        },
        {
          "output_type": "stream",
          "name": "stdout",
          "text": [
            "Layer 1\n",
            "W = [[4.58692658 6.48265815]\n",
            " [4.58404552 6.47077486]]\n",
            "b = [[-7.03713681 -2.87823166]]\n",
            "Layer 2\n",
            "W = [[-10.30234446]\n",
            " [  9.60048751]]\n",
            "b = [[-4.44007119]]\n"
          ]
        }
      ]
    },
    {
      "cell_type": "code",
      "source": [
        "nn_xor_bce = SigmoidNN([2,2,1], x_2, x_2_xor_y, 0.1, 100000, loss_func=\"bce\")\n",
        "nn_xor_bce.train(print_epoch=10000)\n",
        "nn_xor_bce.plot_loss()\n",
        "nn_xor_bce.print_weights_and_biases()"
      ],
      "metadata": {
        "colab": {
          "base_uri": "https://localhost:8080/",
          "height": 793
        },
        "id": "MtpQuGF4R_a6",
        "outputId": "d47ec683-3764-432b-b154-aff3fbe21b3d"
      },
      "execution_count": 27,
      "outputs": [
        {
          "output_type": "stream",
          "name": "stdout",
          "text": [
            "Epoch 0: Loss = 0.9869804083407696, Accuracy = 0.5\n",
            "Epoch 10000: Loss = 0.020529952347490374, Accuracy = 1.0\n",
            "Epoch 20000: Loss = 0.00659041708585127, Accuracy = 1.0\n",
            "Epoch 30000: Loss = 0.0038852585979223704, Accuracy = 1.0\n",
            "Epoch 40000: Loss = 0.0027470139369252036, Accuracy = 1.0\n",
            "Epoch 50000: Loss = 0.0021220296406500153, Accuracy = 1.0\n",
            "Epoch 60000: Loss = 0.0017275971926887556, Accuracy = 1.0\n",
            "Epoch 70000: Loss = 0.001456232593956492, Accuracy = 1.0\n",
            "Epoch 80000: Loss = 0.0012582125685827916, Accuracy = 1.0\n",
            "Epoch 90000: Loss = 0.0011073940459184058, Accuracy = 1.0\n"
          ]
        },
        {
          "output_type": "display_data",
          "data": {
            "text/plain": [
              "<Figure size 640x480 with 1 Axes>"
            ],
            "image/png": "[encoded data removed]"
          },
          "metadata": {}
        },
        {
          "output_type": "stream",
          "name": "stdout",
          "text": [
            "Layer 1\n",
            "W = [[7.91882275 6.12907247]\n",
            " [7.92992034 6.13112911]]\n",
            "b = [[-3.66848745 -9.36504488]]\n",
            "Layer 2\n",
            "W = [[ 14.86258327]\n",
            " [-15.65122123]]\n",
            "b = [[-7.03379742]]\n"
          ]
        }
      ]
    },
    {
      "cell_type": "code",
      "source": [
        "nn_pal_4_mse = SigmoidNN([4,3,1], x_4, x_4_palindrome_y, 0.1, 100000, loss_func=\"mse\")\n",
        "nn_pal_4_mse.train(print_epoch=10000)\n",
        "nn_pal_4_mse.plot_loss()\n",
        "nn_pal_4_mse.print_weights_and_biases()"
      ],
      "metadata": {
        "colab": {
          "base_uri": "https://localhost:8080/",
          "height": 847
        },
        "id": "YWkFFcmFSLKg",
        "outputId": "70eef775-1c14-4553-8a8a-0318291745f8"
      },
      "execution_count": 28,
      "outputs": [
        {
          "output_type": "stream",
          "name": "stdout",
          "text": [
            "Epoch 0: Loss = 0.5827658312433437, Accuracy = 0.25\n",
            "Epoch 10000: Loss = 0.18018525110876304, Accuracy = 0.75\n",
            "Epoch 20000: Loss = 0.15378915237401616, Accuracy = 0.8125\n",
            "Epoch 30000: Loss = 0.10863920643736778, Accuracy = 0.875\n",
            "Epoch 40000: Loss = 0.02419020899323505, Accuracy = 1.0\n",
            "Epoch 50000: Loss = 0.0061120595454521144, Accuracy = 1.0\n",
            "Epoch 60000: Loss = 0.003030221497815492, Accuracy = 1.0\n",
            "Epoch 70000: Loss = 0.0019347698662383049, Accuracy = 1.0\n",
            "Epoch 80000: Loss = 0.0013968017262048532, Accuracy = 1.0\n",
            "Epoch 90000: Loss = 0.001083019117405232, Accuracy = 1.0\n"
          ]
        },
        {
          "output_type": "display_data",
          "data": {
            "text/plain": [
              "<Figure size 640x480 with 1 Axes>"
            ],
            "image/png": "[encoded data removed]"
          },
          "metadata": {}
        },
        {
          "output_type": "stream",
          "name": "stdout",
          "text": [
            "Layer 1\n",
            "W = [[ 4.23792787 -3.66229014  4.7947845 ]\n",
            " [-7.6265637   7.88503654  3.78577822]\n",
            " [ 8.029663   -7.45589461  4.18949184]\n",
            " [-3.7608749   4.1868137   4.87516509]]\n",
            "b = [[1.83574499 1.74083927 0.05712306]]\n",
            "Layer 2\n",
            "W = [[  9.64596738]\n",
            " [  9.67588795]\n",
            " [-10.8343142 ]]\n",
            "b = [[-3.76083544]]\n"
          ]
        }
      ]
    },
    {
      "cell_type": "code",
      "source": [
        "nn_pal_4_bce = SigmoidNN([4,3,1], x_4, x_4_palindrome_y, 0.1, 100000, loss_func=\"bce\")\n",
        "nn_pal_4_bce.train(print_epoch=10000)\n",
        "nn_pal_4_bce.plot_loss()\n",
        "nn_pal_4_bce.print_weights_and_biases()"
      ],
      "metadata": {
        "colab": {
          "base_uri": "https://localhost:8080/",
          "height": 847
        },
        "id": "-yYduyZBSRIa",
        "outputId": "e1201514-8a35-4703-8a62-b6621f26d83e"
      },
      "execution_count": 29,
      "outputs": [
        {
          "output_type": "stream",
          "name": "stdout",
          "text": [
            "Epoch 0: Loss = 1.5399027606376523, Accuracy = 0.25\n",
            "Epoch 10000: Loss = 0.48496112124839497, Accuracy = 0.8125\n",
            "Epoch 20000: Loss = 0.2524293440198704, Accuracy = 0.875\n",
            "Epoch 30000: Loss = 0.19209289079695738, Accuracy = 0.875\n",
            "Epoch 40000: Loss = 0.18293989862255633, Accuracy = 0.875\n",
            "Epoch 50000: Loss = 0.1796980764063858, Accuracy = 0.875\n",
            "Epoch 60000: Loss = 0.17805835542703763, Accuracy = 0.875\n",
            "Epoch 70000: Loss = 0.17707209556226114, Accuracy = 0.875\n",
            "Epoch 80000: Loss = 0.17641435318523224, Accuracy = 0.875\n",
            "Epoch 90000: Loss = 0.17594433363706385, Accuracy = 0.875\n"
          ]
        },
        {
          "output_type": "display_data",
          "data": {
            "text/plain": [
              "<Figure size 640x480 with 1 Axes>"
            ],
            "image/png": "[encoded data removed]"
          },
          "metadata": {}
        },
        {
          "output_type": "stream",
          "name": "stdout",
          "text": [
            "Layer 1\n",
            "W = [[ 7.29164263e+00 -1.18042062e-03 -5.14576549e+00]\n",
            " [ 6.10330924e+00  4.43044081e+00  5.57402435e+00]\n",
            " [ 6.11448721e+00  4.43906866e+00  5.59105135e+00]\n",
            " [ 7.30934055e+00 -1.18018561e-03 -5.14811946e+00]]\n",
            "b = [[-3.40426149 -7.41667697  7.32521927]]\n",
            "Layer 2\n",
            "W = [[-12.33570892]\n",
            " [  9.11912898]\n",
            " [-12.50476054]]\n",
            "b = [[17.44774786]]\n"
          ]
        }
      ]
    },
    {
      "cell_type": "code",
      "source": [
        "nn_pal_5_mse = SigmoidNN([5,3,1], x_5, x_5_palindrome_y, 0.1, 200000, loss_func=\"mse\")\n",
        "nn_pal_5_mse.train(print_epoch=10000)\n",
        "nn_pal_5_mse.plot_loss()\n",
        "nn_pal_5_mse.print_weights_and_biases()"
      ],
      "metadata": {
        "colab": {
          "base_uri": "https://localhost:8080/",
          "height": 1000
        },
        "id": "MRFWber6SkaG",
        "outputId": "1a863376-28b7-4f91-f955-ecf8be2c484c"
      },
      "execution_count": 30,
      "outputs": [
        {
          "output_type": "stream",
          "name": "stdout",
          "text": [
            "Epoch 0: Loss = 0.5899860854780107, Accuracy = 0.25\n",
            "Epoch 10000: Loss = 0.18205809130351402, Accuracy = 0.75\n",
            "Epoch 20000: Loss = 0.15939207918972115, Accuracy = 0.8125\n",
            "Epoch 30000: Loss = 0.14234839452580145, Accuracy = 0.8125\n",
            "Epoch 40000: Loss = 0.1252275744798886, Accuracy = 0.8125\n",
            "Epoch 50000: Loss = 0.12313259518656998, Accuracy = 0.8125\n",
            "Epoch 60000: Loss = 0.12220632782813066, Accuracy = 0.84375\n",
            "Epoch 70000: Loss = 0.12164421380966904, Accuracy = 0.84375\n",
            "Epoch 80000: Loss = 0.12126396022311758, Accuracy = 0.84375\n",
            "Epoch 90000: Loss = 0.12098922475674134, Accuracy = 0.84375\n",
            "Epoch 100000: Loss = 0.1207813432487677, Accuracy = 0.84375\n",
            "Epoch 110000: Loss = 0.12061848923339641, Accuracy = 0.84375\n",
            "Epoch 120000: Loss = 0.12048738560295336, Accuracy = 0.84375\n",
            "Epoch 130000: Loss = 0.12037948903038276, Accuracy = 0.84375\n",
            "Epoch 140000: Loss = 0.12028905264146951, Accuracy = 0.84375\n",
            "Epoch 150000: Loss = 0.12021206814241658, Accuracy = 0.84375\n",
            "Epoch 160000: Loss = 0.12014565408799571, Accuracy = 0.84375\n",
            "Epoch 170000: Loss = 0.12008768513915029, Accuracy = 0.84375\n",
            "Epoch 180000: Loss = 0.12003655832588761, Accuracy = 0.84375\n",
            "Epoch 190000: Loss = 0.1199910406010924, Accuracy = 0.84375\n"
          ]
        },
        {
          "output_type": "display_data",
          "data": {
            "text/plain": [
              "<Figure size 640x480 with 1 Axes>"
            ],
            "image/png": "[encoded data removed]"
          },
          "metadata": {}
        },
        {
          "output_type": "stream",
          "name": "stdout",
          "text": [
            "Layer 1\n",
            "W = [[ 6.07500821e+00  1.57263554e+00  4.38504683e+00]\n",
            " [ 5.85954906e+00  1.56394842e+00 -8.68187115e-03]\n",
            " [ 3.68425181e-02  4.93474263e-01 -5.23885498e-03]\n",
            " [ 5.87042721e+00  1.51474626e+00 -8.63003328e-03]\n",
            " [ 6.07867033e+00  1.77211289e+00  4.38172327e+00]]\n",
            "b = [[-1.11364006  0.62615746 -9.09248507]]\n",
            "Layer 2\n",
            "W = [[-7.7875503 ]\n",
            " [ 0.51853724]\n",
            " [ 5.64110603]]\n",
            "b = [[4.91637636]]\n"
          ]
        }
      ]
    },
    {
      "cell_type": "code",
      "source": [
        "nn_pal_5_bce = SigmoidNN([5,3,1], x_5, x_5_palindrome_y, 0.2, 100000, loss_func=\"bce\")\n",
        "nn_pal_5_bce.train(print_epoch=10000)\n",
        "nn_pal_5_bce.plot_loss()\n",
        "nn_pal_5_bce.print_weights_and_biases()"
      ],
      "metadata": {
        "colab": {
          "base_uri": "https://localhost:8080/",
          "height": 865
        },
        "id": "sngTR4jASo0x",
        "outputId": "e386ce50-3f7a-474f-d4d2-db10e5c94843"
      },
      "execution_count": 31,
      "outputs": [
        {
          "output_type": "stream",
          "name": "stdout",
          "text": [
            "Epoch 0: Loss = 1.2783871097323551, Accuracy = 0.25\n",
            "Epoch 10000: Loss = 0.3970010679006629, Accuracy = 0.8125\n",
            "Epoch 20000: Loss = 0.11804512461903048, Accuracy = 1.0\n",
            "Epoch 30000: Loss = 0.07296384117599315, Accuracy = 1.0\n",
            "Epoch 40000: Loss = 0.048220580912451086, Accuracy = 1.0\n",
            "Epoch 50000: Loss = 0.018945528391784996, Accuracy = 1.0\n",
            "Epoch 60000: Loss = 0.01312399031874402, Accuracy = 1.0\n",
            "Epoch 70000: Loss = 0.010225164756151855, Accuracy = 1.0\n",
            "Epoch 80000: Loss = 0.008450283569636424, Accuracy = 1.0\n",
            "Epoch 90000: Loss = 0.0072363043320290005, Accuracy = 1.0\n"
          ]
        },
        {
          "output_type": "display_data",
          "data": {
            "text/plain": [
              "<Figure size 640x480 with 1 Axes>"
            ],
            "image/png": "[encoded data removed]"
          },
          "metadata": {}
        },
        {
          "output_type": "stream",
          "name": "stdout",
          "text": [
            "Layer 1\n",
            "W = [[ 1.74112033e+00 -7.75199944e-01  6.63108037e+00]\n",
            " [ 1.74886964e+00  6.49887159e+00 -7.68860085e-01]\n",
            " [-5.94882338e-04 -2.59426812e-03 -2.22733391e-03]\n",
            " [ 1.74886877e+00  6.49884635e+00 -7.68860079e-01]\n",
            " [ 1.74112042e+00 -7.75199945e-01  6.63108319e+00]]\n",
            "b = [[ -2.31487713 -11.08122719 -11.32265224]]\n",
            "Layer 2\n",
            "W = [[-34.29758232]\n",
            " [ 27.26465609]\n",
            " [ 27.0624392 ]]\n",
            "b = [[6.88678067]]\n"
          ]
        }
      ]
    },
    {
      "cell_type": "code",
      "source": [
        "nn_even_4 = SigmoidNN([4,5,1], x_4, x_4_even_parity_y, 0.2, 300000, loss_func=\"mse\")\n",
        "nn_even_4.train(print_epoch=10000)\n",
        "nn_even_4.plot_loss()\n",
        "nn_even_4.print_weights_and_biases()"
      ],
      "metadata": {
        "colab": {
          "base_uri": "https://localhost:8080/",
          "height": 1000
        },
        "id": "ifOcRFHQSvSM",
        "outputId": "1310f90a-d716-48c0-b54c-932f4db84d63"
      },
      "execution_count": 32,
      "outputs": [
        {
          "output_type": "stream",
          "name": "stdout",
          "text": [
            "Epoch 0: Loss = 0.44116070336099444, Accuracy = 0.5\n",
            "Epoch 10000: Loss = 0.2499989699675907, Accuracy = 0.5\n",
            "Epoch 20000: Loss = 0.24999435825997432, Accuracy = 0.5\n",
            "Epoch 30000: Loss = 0.24998939878375598, Accuracy = 0.5625\n",
            "Epoch 40000: Loss = 0.2499781257701415, Accuracy = 0.5625\n",
            "Epoch 50000: Loss = 0.2499446977602066, Accuracy = 0.625\n",
            "Epoch 60000: Loss = 0.2497750461598048, Accuracy = 0.625\n",
            "Epoch 70000: Loss = 0.24019059605145365, Accuracy = 0.6875\n",
            "Epoch 80000: Loss = 0.07617895532748108, Accuracy = 0.9375\n",
            "Epoch 90000: Loss = 0.061998368553699876, Accuracy = 0.9375\n",
            "Epoch 100000: Loss = 0.05582997852497355, Accuracy = 0.9375\n",
            "Epoch 110000: Loss = 0.05345712755237293, Accuracy = 0.9375\n",
            "Epoch 120000: Loss = 0.05238323752889121, Accuracy = 0.9375\n",
            "Epoch 130000: Loss = 0.0517987403518119, Accuracy = 0.9375\n",
            "Epoch 140000: Loss = 0.05143749400998726, Accuracy = 0.9375\n",
            "Epoch 150000: Loss = 0.051194038294965424, Accuracy = 0.9375\n",
            "Epoch 160000: Loss = 0.05101956890824132, Accuracy = 0.9375\n",
            "Epoch 170000: Loss = 0.050888722767749674, Accuracy = 0.9375\n",
            "Epoch 180000: Loss = 0.05078711382011814, Accuracy = 0.9375\n",
            "Epoch 190000: Loss = 0.05070601105298244, Accuracy = 0.9375\n",
            "Epoch 200000: Loss = 0.05063982356640897, Accuracy = 0.9375\n",
            "Epoch 210000: Loss = 0.05058481221010653, Accuracy = 0.9375\n",
            "Epoch 220000: Loss = 0.050538384926909326, Accuracy = 0.9375\n",
            "Epoch 230000: Loss = 0.05049868996077305, Accuracy = 0.9375\n",
            "Epoch 240000: Loss = 0.050464370145444394, Accuracy = 0.9375\n",
            "Epoch 250000: Loss = 0.05043440867107939, Accuracy = 0.9375\n",
            "Epoch 260000: Loss = 0.050408029017854634, Accuracy = 0.9375\n",
            "Epoch 270000: Loss = 0.05038462814190765, Accuracy = 0.9375\n",
            "Epoch 280000: Loss = 0.05036373072683938, Accuracy = 0.9375\n",
            "Epoch 290000: Loss = 0.050344957154820236, Accuracy = 0.9375\n"
          ]
        },
        {
          "output_type": "display_data",
          "data": {
            "text/plain": [
              "<Figure size 640x480 with 1 Axes>"
            ],
            "image/png": "[encoded data removed]"
          },
          "metadata": {}
        },
        {
          "output_type": "stream",
          "name": "stdout",
          "text": [
            "Layer 1\n",
            "W = [[ 2.89251657  6.87484179  7.33859296 -3.43095168  3.69388325]\n",
            " [ 3.23363687  6.87702758  7.37019981 -3.26788704  3.55174739]\n",
            " [ 3.60403153  6.86861199  7.2570837  -3.86402346  2.61472078]\n",
            " [ 3.41332917  6.8734115   7.31360111 -3.02212746  3.59900948]]\n",
            "b = [[ -0.81545131 -13.98430964 -10.26929533   0.91260057  -0.90360216]]\n",
            "Layer 2\n",
            "W = [[ -4.82811257]\n",
            " [-10.67297075]\n",
            " [ 16.15160616]\n",
            " [  6.09837065]\n",
            " [ -4.99628774]]\n",
            "b = [[2.94296646]]\n"
          ]
        }
      ]
    },
    {
      "cell_type": "code",
      "source": [
        "nn_even_5 = SigmoidNN([5,7,1], x_5, x_5_even_parity_y, 0.1, 1000000, loss_func=\"mse\")\n",
        "nn_even_5.train(print_epoch=10000)\n",
        "nn_even_5.plot_loss()\n",
        "nn_even_5.print_weights_and_biases()"
      ],
      "metadata": {
        "colab": {
          "base_uri": "https://localhost:8080/",
          "height": 1000
        },
        "id": "2YlehoeRSzrh",
        "outputId": "42b107aa-5497-49a6-9820-e60217bfe185"
      },
      "execution_count": 33,
      "outputs": [
        {
          "output_type": "stream",
          "name": "stdout",
          "text": [
            "Epoch 0: Loss = 0.39658442191963394, Accuracy = 0.5\n",
            "Epoch 10000: Loss = 0.250017454552925, Accuracy = 0.5\n",
            "Epoch 20000: Loss = 0.2500080787596227, Accuracy = 0.5\n",
            "Epoch 30000: Loss = 0.25000489368496165, Accuracy = 0.53125\n",
            "Epoch 40000: Loss = 0.250003206389125, Accuracy = 0.5\n",
            "Epoch 50000: Loss = 0.2500020521039461, Accuracy = 0.46875\n",
            "Epoch 60000: Loss = 0.25000115135236106, Accuracy = 0.40625\n",
            "Epoch 70000: Loss = 0.25000039054750656, Accuracy = 0.4375\n",
            "Epoch 80000: Loss = 0.24999970636960483, Accuracy = 0.5\n",
            "Epoch 90000: Loss = 0.24999905417206708, Accuracy = 0.5\n",
            "Epoch 100000: Loss = 0.24999839711297958, Accuracy = 0.4375\n",
            "Epoch 110000: Loss = 0.24999770108936512, Accuracy = 0.46875\n",
            "Epoch 120000: Loss = 0.24999693144133683, Accuracy = 0.46875\n",
            "Epoch 130000: Loss = 0.24999605010330317, Accuracy = 0.5\n",
            "Epoch 140000: Loss = 0.24999501256847112, Accuracy = 0.46875\n",
            "Epoch 150000: Loss = 0.2499937641445848, Accuracy = 0.46875\n",
            "Epoch 160000: Loss = 0.24999223484824726, Accuracy = 0.59375\n",
            "Epoch 170000: Loss = 0.24999033193553977, Accuracy = 0.59375\n",
            "Epoch 180000: Loss = 0.2499879283637497, Accuracy = 0.5625\n",
            "Epoch 190000: Loss = 0.24998484407408778, Accuracy = 0.53125\n",
            "Epoch 200000: Loss = 0.24998081405928563, Accuracy = 0.53125\n",
            "Epoch 210000: Loss = 0.24997543074254508, Accuracy = 0.53125\n",
            "Epoch 220000: Loss = 0.24996803311011304, Accuracy = 0.53125\n",
            "Epoch 230000: Loss = 0.24995747698628532, Accuracy = 0.53125\n",
            "Epoch 240000: Loss = 0.24994161565361872, Accuracy = 0.5625\n",
            "Epoch 250000: Loss = 0.24991599267935488, Accuracy = 0.59375\n",
            "Epoch 260000: Loss = 0.24987005455313707, Accuracy = 0.53125\n",
            "Epoch 270000: Loss = 0.24977375322067208, Accuracy = 0.53125\n",
            "Epoch 280000: Loss = 0.24951307655978497, Accuracy = 0.53125\n",
            "Epoch 290000: Loss = 0.24836971353306475, Accuracy = 0.5\n",
            "Epoch 300000: Loss = 0.23717730833268055, Accuracy = 0.5\n",
            "Epoch 310000: Loss = 0.18732678557937943, Accuracy = 0.8125\n",
            "Epoch 320000: Loss = 0.14760899693968924, Accuracy = 0.84375\n",
            "Epoch 330000: Loss = 0.12619823710788455, Accuracy = 0.84375\n",
            "Epoch 340000: Loss = 0.11702945891387187, Accuracy = 0.84375\n",
            "Epoch 350000: Loss = 0.08672308397644714, Accuracy = 0.8125\n",
            "Epoch 360000: Loss = 0.04051027016334179, Accuracy = 0.96875\n",
            "Epoch 370000: Loss = 0.03435056414207341, Accuracy = 0.96875\n",
            "Epoch 380000: Loss = 0.03250231256437693, Accuracy = 0.96875\n",
            "Epoch 390000: Loss = 0.03131916280380724, Accuracy = 0.96875\n",
            "Epoch 400000: Loss = 0.030448479981557905, Accuracy = 0.96875\n",
            "Epoch 410000: Loss = 0.029800922888014666, Accuracy = 0.96875\n",
            "Epoch 420000: Loss = 0.029307555524472402, Accuracy = 0.96875\n",
            "Epoch 430000: Loss = 0.02892188252073311, Accuracy = 0.96875\n",
            "Epoch 440000: Loss = 0.028613325599848787, Accuracy = 0.96875\n",
            "Epoch 450000: Loss = 0.02836146814424081, Accuracy = 0.96875\n",
            "Epoch 460000: Loss = 0.028152329353369886, Accuracy = 0.96875\n",
            "Epoch 470000: Loss = 0.027976080016793213, Accuracy = 0.96875\n",
            "Epoch 480000: Loss = 0.027825636992723148, Accuracy = 0.96875\n",
            "Epoch 490000: Loss = 0.027695780556729877, Accuracy = 0.96875\n",
            "Epoch 500000: Loss = 0.027582586205867402, Accuracy = 0.96875\n",
            "Epoch 510000: Loss = 0.027483049641731677, Accuracy = 0.96875\n",
            "Epoch 520000: Loss = 0.027394833305314635, Accuracy = 0.96875\n",
            "Epoch 530000: Loss = 0.02731609122353027, Accuracy = 0.96875\n",
            "Epoch 540000: Loss = 0.027245345433591646, Accuracy = 0.96875\n",
            "Epoch 550000: Loss = 0.027181397053087437, Accuracy = 0.96875\n",
            "Epoch 560000: Loss = 0.0271232610071521, Accuracy = 0.96875\n",
            "Epoch 570000: Loss = 0.02707011709230622, Accuracy = 0.96875\n",
            "Epoch 580000: Loss = 0.02702127234041265, Accuracy = 0.96875\n",
            "Epoch 590000: Loss = 0.026976131046832743, Accuracy = 0.96875\n",
            "Epoch 600000: Loss = 0.026934169609604666, Accuracy = 0.96875\n",
            "Epoch 610000: Loss = 0.02689491358656472, Accuracy = 0.96875\n",
            "Epoch 620000: Loss = 0.02685791403155788, Accuracy = 0.96875\n",
            "Epoch 630000: Loss = 0.026822718838225415, Accuracy = 0.96875\n",
            "Epoch 640000: Loss = 0.02678883143786824, Accuracy = 0.96875\n",
            "Epoch 650000: Loss = 0.02675564084884446, Accuracy = 0.96875\n",
            "Epoch 660000: Loss = 0.026722285088802967, Accuracy = 0.96875\n",
            "Epoch 670000: Loss = 0.026687345156561328, Accuracy = 0.96875\n",
            "Epoch 680000: Loss = 0.02664804267995111, Accuracy = 0.96875\n",
            "Epoch 690000: Loss = 0.026597639599011385, Accuracy = 0.96875\n",
            "Epoch 700000: Loss = 0.026513656174641253, Accuracy = 0.96875\n",
            "Epoch 710000: Loss = 0.026253009924255426, Accuracy = 0.96875\n",
            "Epoch 720000: Loss = 0.023823626884083262, Accuracy = 0.96875\n",
            "Epoch 730000: Loss = 0.01962039571368321, Accuracy = 0.96875\n",
            "Epoch 740000: Loss = 0.011792813566229174, Accuracy = 1.0\n",
            "Epoch 750000: Loss = 0.005761342461289709, Accuracy = 1.0\n",
            "Epoch 760000: Loss = 0.00316272450732708, Accuracy = 1.0\n",
            "Epoch 770000: Loss = 0.0020312945328842193, Accuracy = 1.0\n",
            "Epoch 780000: Loss = 0.0014558366776905602, Accuracy = 1.0\n",
            "Epoch 790000: Loss = 0.0011216138082525608, Accuracy = 1.0\n",
            "Epoch 800000: Loss = 0.0009075892024613996, Accuracy = 1.0\n",
            "Epoch 810000: Loss = 0.0007603730135412044, Accuracy = 1.0\n",
            "Epoch 820000: Loss = 0.0006535420516548357, Accuracy = 1.0\n",
            "Epoch 830000: Loss = 0.000572765642052738, Accuracy = 1.0\n",
            "Epoch 840000: Loss = 0.0005096842911051177, Accuracy = 1.0\n",
            "Epoch 850000: Loss = 0.0004591270624107508, Accuracy = 1.0\n",
            "Epoch 860000: Loss = 0.00041773831548573136, Accuracy = 1.0\n",
            "Epoch 870000: Loss = 0.00038325217899027854, Accuracy = 1.0\n",
            "Epoch 880000: Loss = 0.0003540867323962391, Accuracy = 1.0\n",
            "Epoch 890000: Loss = 0.00032910579272444544, Accuracy = 1.0\n",
            "Epoch 900000: Loss = 0.0003074731992587038, Accuracy = 1.0\n",
            "Epoch 910000: Loss = 0.00028856045249202447, Accuracy = 1.0\n",
            "Epoch 920000: Loss = 0.00027188633146764407, Accuracy = 1.0\n",
            "Epoch 930000: Loss = 0.0002570763313319347, Accuracy = 1.0\n",
            "Epoch 940000: Loss = 0.00024383475386550286, Accuracy = 1.0\n",
            "Epoch 950000: Loss = 0.00023192509005517237, Accuracy = 1.0\n",
            "Epoch 960000: Loss = 0.00022115596544266977, Accuracy = 1.0\n",
            "Epoch 970000: Loss = 0.0002113708965102539, Accuracy = 1.0\n",
            "Epoch 980000: Loss = 0.00020244070794068185, Accuracy = 1.0\n",
            "Epoch 990000: Loss = 0.00019425783989494925, Accuracy = 1.0\n"
          ]
        },
        {
          "output_type": "display_data",
          "data": {
            "text/plain": [
              "<Figure size 640x480 with 1 Axes>"
            ],
            "image/png": "[encoded data removed]"
          },
          "metadata": {}
        },
        {
          "output_type": "stream",
          "name": "stdout",
          "text": [
            "Layer 1\n",
            "W = [[5.47670717 3.56484642 2.54088284 6.6081715  1.53953214 5.79390602\n",
            "  3.52024126]\n",
            " [5.47457984 3.6127156  2.54111926 6.62462703 1.28470313 5.79524584\n",
            "  3.45265156]\n",
            " [5.47409403 3.76868613 2.54120408 6.60135018 1.20504017 5.79432451\n",
            "  3.31769488]\n",
            " [5.47536307 3.53692259 2.54085445 6.61615238 1.47290378 5.79005303\n",
            "  3.50391779]\n",
            " [5.47501739 3.61355404 2.5414338  6.60861875 1.13301058 5.80329315\n",
            "  3.53604013]]\n",
            "b = [[-18.30826283  -1.43133706 -11.53469817 -10.23993412  -0.28500419\n",
            "  -13.59418347  -1.34587258]]\n",
            "Layer 2\n",
            "W = [[ 13.4339122 ]\n",
            " [ -6.43410416]\n",
            " [-13.00160894]\n",
            " [ 13.99096383]\n",
            " [ -0.68241258]\n",
            " [-14.24304215]\n",
            " [ -5.89431951]]\n",
            "b = [[6.62311109]]\n"
          ]
        }
      ]
    },
    {
      "cell_type": "code",
      "source": [],
      "metadata": {
        "id": "T2zEjEmtS84_"
      },
      "execution_count": null,
      "outputs": []
    }
  ],
  "metadata": {
    "kernelspec": {
      "display_name": "Python 3",
      "language": "python",
      "name": "python3"
    },
    "language_info": {
      "codemirror_mode": {
        "name": "ipython",
        "version": 3
      },
      "file_extension": ".py",
      "mimetype": "text/x-python",
      "name": "python",
      "nbconvert_exporter": "python",
      "pygments_lexer": "ipython3",
      "version": "3.12.1"
    },
    "colab": {
      "provenance": []
    }
  },
  "nbformat": 4,
  "nbformat_minor": 0
}